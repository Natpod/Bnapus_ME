{
 "cells": [
  {
   "cell_type": "markdown",
   "metadata": {},
   "source": [
    "# STRING DB API Access for Protein Protein Interaction Enrichment\n",
    "\n",
    "_Author: _ Natalia García Sánchez\n",
    "_Date: 26/03/2023_\n",
    "_Description: _ API access with IDENTIFIERS from custom parsing script `stringdb_mapping.sh` obtention in HDAC dataset"
   ]
  },
  {
   "cell_type": "code",
   "execution_count": 2,
   "metadata": {},
   "outputs": [],
   "source": [
    "import requests\n",
    "import pandas as pd"
   ]
  },
  {
   "cell_type": "markdown",
   "metadata": {},
   "source": [
    "get current STRING db API REST version "
   ]
  },
  {
   "cell_type": "code",
   "execution_count": 42,
   "metadata": {},
   "outputs": [
    {
     "data": {
      "text/plain": [
       "['string_version - stable_address',\n",
       " '11.5 - https://version-11-5.string-db.org']"
      ]
     },
     "execution_count": 42,
     "metadata": {},
     "output_type": "execute_result"
    }
   ],
   "source": [
    "request_url =  \"https://string-db.org/api/tsv/version\"\n",
    "res = requests.post(request_url, {'caller_identity':'https://github.com/Natpod/Bnapus_ME'})\n",
    "\" - \".join(res.text.split(\"\\t\")).split(\"\\n\")[:-1]"
   ]
  },
  {
   "cell_type": "markdown",
   "metadata": {},
   "source": [
    "load gene mappings"
   ]
  },
  {
   "cell_type": "code",
   "execution_count": 3,
   "metadata": {},
   "outputs": [],
   "source": [
    "sdb_df = pd.read_csv('./Filtered_DEGs_mappings_string.csv')"
   ]
  },
  {
   "cell_type": "code",
   "execution_count": 43,
   "metadata": {},
   "outputs": [
    {
     "data": {
      "text/html": [
       "<div>\n",
       "<style scoped>\n",
       "    .dataframe tbody tr th:only-of-type {\n",
       "        vertical-align: middle;\n",
       "    }\n",
       "\n",
       "    .dataframe tbody tr th {\n",
       "        vertical-align: top;\n",
       "    }\n",
       "\n",
       "    .dataframe thead th {\n",
       "        text-align: right;\n",
       "    }\n",
       "</style>\n",
       "<table border=\"1\" class=\"dataframe\">\n",
       "  <thead>\n",
       "    <tr style=\"text-align: right;\">\n",
       "      <th></th>\n",
       "      <th>gene_id</th>\n",
       "      <th>stringdb_id</th>\n",
       "    </tr>\n",
       "  </thead>\n",
       "  <tbody>\n",
       "    <tr>\n",
       "      <th>0</th>\n",
       "      <td>GSBRNA2T00000015001</td>\n",
       "      <td>3708.A0A078F5D6</td>\n",
       "    </tr>\n",
       "    <tr>\n",
       "      <th>1</th>\n",
       "      <td>GSBRNA2T00000029001</td>\n",
       "      <td>3708.A0A078F5E8</td>\n",
       "    </tr>\n",
       "    <tr>\n",
       "      <th>2</th>\n",
       "      <td>GSBRNA2T00000065001</td>\n",
       "      <td>3708.A0A078F9A0</td>\n",
       "    </tr>\n",
       "    <tr>\n",
       "      <th>3</th>\n",
       "      <td>GSBRNA2T00000073001</td>\n",
       "      <td>3708.A0A078F1M2</td>\n",
       "    </tr>\n",
       "    <tr>\n",
       "      <th>4</th>\n",
       "      <td>GSBRNA2T00000106001</td>\n",
       "      <td>3708.A0A078F4M7</td>\n",
       "    </tr>\n",
       "  </tbody>\n",
       "</table>\n",
       "</div>"
      ],
      "text/plain": [
       "               gene_id      stringdb_id\n",
       "0  GSBRNA2T00000015001  3708.A0A078F5D6\n",
       "1  GSBRNA2T00000029001  3708.A0A078F5E8\n",
       "2  GSBRNA2T00000065001  3708.A0A078F9A0\n",
       "3  GSBRNA2T00000073001  3708.A0A078F1M2\n",
       "4  GSBRNA2T00000106001  3708.A0A078F4M7"
      ]
     },
     "execution_count": 43,
     "metadata": {},
     "output_type": "execute_result"
    }
   ],
   "source": [
    "sdb_df.head()"
   ]
  },
  {
   "cell_type": "code",
   "execution_count": null,
   "metadata": {},
   "outputs": [],
   "source": [
    "DEGs_df = pd.read_csv('./Filtered_DEG_LFC1_padj05_results_total.csv')\n",
    "# merge with mappings\n",
    "sdb_df = sdb_df.merge(DEGs_df, on='gene_id', how='inner')"
   ]
  },
  {
   "attachments": {},
   "cell_type": "markdown",
   "metadata": {},
   "source": [
    "This would be our gene list if it had a subset of less than 2000 genes. If we want API access to STRINGd for information extraction, we will neeed a list of less than 2000 genes"
   ]
  },
  {
   "cell_type": "code",
   "execution_count": 44,
   "metadata": {},
   "outputs": [],
   "source": [
    "my_genes=sdb_df['stringdb_id']"
   ]
  },
  {
   "attachments": {},
   "cell_type": "markdown",
   "metadata": {},
   "source": [
    "One solution would be sorting by high changes in expression |LFC| > 4"
   ]
  },
  {
   "cell_type": "code",
   "execution_count": null,
   "metadata": {},
   "outputs": [],
   "source": [
    "my_genes=sdb_df[abs(sdb_df['log2FoldChange'])>4]['stringdb_id']"
   ]
  },
  {
   "cell_type": "markdown",
   "metadata": {},
   "source": [
    "get network image"
   ]
  },
  {
   "cell_type": "code",
   "execution_count": 46,
   "metadata": {},
   "outputs": [
    {
     "name": "stdout",
     "output_type": "stream",
     "text": [
      "['Error', 'ErrorMessage']\n",
      "['input too large', \"STRING website does not support networks larger than 2000 nodes. In order to visualize large STRING networks please use our <br/><br/> <a class='error_linkout' target='_blank' href='https://apps.cytoscape.org/apps/stringapp'>Cytoscape stringApp</a>. <br/><br/>The stringApp, among other features, gives you access to more network customization options, lets you augument the network with your data and performs the functional enrichment analysis.\"]\n"
     ]
    }
   ],
   "source": [
    "##\n",
    "## Construct URL\n",
    "##\n",
    "\n",
    "string_api_url = \"https://version-11-5.string-db.org/api\"\n",
    "method = \"network\"\n",
    "\n",
    "request_url = \"/\".join([string_api_url, 'tsv', method])\n",
    "\n",
    "##\n",
    "## Set parameters\n",
    "##\n",
    "\n",
    "\n",
    "params = {\n",
    "\n",
    "    \"identifiers\" : \"%0d\".join(my_genes), # your protein\n",
    "    \"species\" : 3708, # species NCBI identifier \n",
    "    \"caller_identity\" : \"https://github.com/Natpod/Bnapus_ME\" # your app name\n",
    "\n",
    "}\n",
    "\n",
    "##\n",
    "## Call STRING\n",
    "##\n",
    "\n",
    "response = requests.post(request_url, data=params)\n",
    "\n",
    "for line in response.text.strip().split(\"\\n\"):\n",
    "\n",
    "    l = line.strip().split(\"\\t\")\n",
    "    p1, p2 = l[2], l[3]\n",
    "    \n",
    "    ## filter the interaction according to experimental score\n",
    "    experimental_score = float(l[10])\n",
    "    if experimental_score > 0.8:\n",
    "         print \n",
    "        print(\"\\t\".join([p1, p2, \"experimentally confirmed (prob. %.3f)\" % experimental_score]))"
   ]
  },
  {
   "attachments": {},
   "cell_type": "markdown",
   "metadata": {},
   "source": [
    "This cell will give interaction partners present in the DEGs PPI"
   ]
  },
  {
   "cell_type": "code",
   "execution_count": null,
   "metadata": {},
   "outputs": [],
   "source": [
    "string_api_url = \"https://version-11-5.string-db.org/api\"\n",
    "method = \"interaction_partners\n",
    "request_url = \"/\".join([string_api_url, output_format, method])\n",
    "\n",
    "\n",
    "## Set parameters\n",
    "##\n",
    "\n",
    "params = {\n",
    "\n",
    "    \"identifiers\" : \"%0d\".join(my_genes), # your protein\n",
    "    \"species\" : 3708, # species NCBI identifier \n",
    "    \"limit\" : 5,\n",
    "    \"caller_identity\" : \"https://github.com/Natpod/Bnapus_ME\" # your app name\n",
    "\n",
    "}\n",
    "\n",
    "##\n",
    "## Call STRING\n",
    "##\n",
    "\n",
    "response = requests.post(request_url, data=params)\n",
    "\n",
    "##\n",
    "## Read and parse the results\n",
    "##\n",
    "\n",
    "for line in response.text.strip().split(\"\\n\"):\n",
    "\n",
    "    l = line.strip().split(\"\\t\")\n",
    "    query_ensp = l[0]\n",
    "    query_name = l[2]\n",
    "    partner_ensp = l[1]\n",
    "    partner_name = l[3]\n",
    "    combined_score = l[5]\n",
    "\n",
    "    ## print\n",
    "\n",
    "    print(\"\\t\".join([query_ensp, query_name, partner_name, combined_score]))"
   ]
  },
  {
   "attachments": {},
   "cell_type": "markdown",
   "metadata": {},
   "source": [
    "This cell will return a df with the nodes and edges from the gene list which can be plotted in igraph\n"
   ]
  },
  {
   "cell_type": "code",
   "execution_count": null,
   "metadata": {},
   "outputs": [],
   "source": [
    "## Construct the request\n",
    "##\n",
    "string_api_url = \"https://string-db.org/api\"\n",
    "request_url = \"/\".join([my_genes, \"tsv\", \"network\"])\n",
    "params = {\n",
    "    \"identifiers\": \"\\r\".join(identifiers),  # your protein list\n",
    "    \"species\": 3708,  # species NCBI identifier\n",
    "    \"caller_identity\": \"https://github.com/Natpod/Bnapus_ME\",\n",
    "    \"required_score\": 900, # high confidence PPI interactions\n",
    "    \"add_nodes\": add_nodes\n",
    "}\n",
    "results = requests.post(request_url, data=params)\n",
    "df = handle_results(results)"
   ]
  },
  {
   "cell_type": "code",
   "execution_count": null,
   "metadata": {},
   "outputs": [],
   "source": [
    "string_api_url = \"https://version-11-5.string-db.org/api\"\n",
    "request_url = \"/\".join([string_api_url, 'tsv', 'ppi_enrichment'])\n",
    "\n",
    "params = {\n",
    "    \"identifiers\": \"\\r\".join(identifiers),  # your protein list\n",
    "    \"species\": 3708,  # species NCBI identifier\n",
    "    \"required_score\": 900,\n",
    "    \"caller_identity\": \"https://github.com/Natpod/Bnapus_ME\"\n",
    "}\n",
    "results = requests.post(request_url, data=params)\n",
    "df = handle_results(results)"
   ]
  },
  {
   "cell_type": "code",
   "execution_count": null,
   "metadata": {},
   "outputs": [],
   "source": []
  },
  {
   "cell_type": "code",
   "execution_count": null,
   "metadata": {},
   "outputs": [],
   "source": []
  }
 ],
 "metadata": {
  "kernelspec": {
   "display_name": "Python 3",
   "language": "python",
   "name": "python3"
  },
  "language_info": {
   "codemirror_mode": {
    "name": "ipython",
    "version": 3
   },
   "file_extension": ".py",
   "mimetype": "text/x-python",
   "name": "python",
   "nbconvert_exporter": "python",
   "pygments_lexer": "ipython3",
   "version": "3.7.4"
  }
 },
 "nbformat": 4,
 "nbformat_minor": 4
}
