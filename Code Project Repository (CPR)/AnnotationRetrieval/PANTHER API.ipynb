{
 "cells": [
  {
   "cell_type": "markdown",
   "id": "0724b835-7ff0-4d52-a14d-f3f71f72ba0f",
   "metadata": {},
   "source": [
    "# PANTHER API access and gene annotation\n",
    "\n",
    "Functional annotation of protein families in Differentially Expressed Genes and Leading Edge list in Enrichment result\n",
    "\n",
    "_Author : Natalia García Sánchez_\n",
    "\n",
    "_Date : 25/05/2023_\n",
    "\n",
    "---"
   ]
  },
  {
   "cell_type": "code",
   "execution_count": 1,
   "id": "09191447-bd35-4694-9a8f-8ba61475a89e",
   "metadata": {},
   "outputs": [],
   "source": [
    "import requests\n",
    "import pandas as pd\n"
   ]
  },
  {
   "cell_type": "markdown",
   "id": "ad6f8e85-ba05-4417-a748-6fd5c4658ff3",
   "metadata": {},
   "source": [
    "current panther release"
   ]
  },
  {
   "cell_type": "code",
   "execution_count": 17,
   "id": "ccd0bed9-b744-4119-b9cd-165183ddac2c",
   "metadata": {},
   "outputs": [],
   "source": [
    "request_url =  \"http://pantherdb.org/services/oai/pantherdb/supportedgenomes\"\n",
    "res = requests.post(request_url, {'caller_identity':'https://github.com/Natpod/Bnapus_ME'})"
   ]
  },
  {
   "cell_type": "code",
   "execution_count": null,
   "id": "00fd5082-df31-4c8b-988f-94b4514cd1c2",
   "metadata": {},
   "outputs": [],
   "source": [
    "version=res.json()['search']['product']\n"
   ]
  },
  {
   "cell_type": "code",
   "execution_count": 29,
   "id": "aa9b438c-14ae-496a-8257-730bbc320568",
   "metadata": {},
   "outputs": [
    {
     "data": {
      "text/plain": [
       "{'source': 'PANTHERDB', 'version': 17}"
      ]
     },
     "execution_count": 29,
     "metadata": {},
     "output_type": "execute_result"
    }
   ],
   "source": [
    "version"
   ]
  },
  {
   "cell_type": "code",
   "execution_count": 33,
   "id": "6d077761-c8d0-46a8-9647-8df16dc48f46",
   "metadata": {},
   "outputs": [],
   "source": [
    "gen=res.json()['search']['output']['genomes']['genome']\n",
    "supportedGenomes = pd.DataFrame.from_dict(gen)"
   ]
  },
  {
   "cell_type": "code",
   "execution_count": 36,
   "id": "b8af2284-9722-4f4a-9fb6-f4a991809586",
   "metadata": {},
   "outputs": [
    {
     "data": {
      "text/html": [
       "<div>\n",
       "<style scoped>\n",
       "    .dataframe tbody tr th:only-of-type {\n",
       "        vertical-align: middle;\n",
       "    }\n",
       "\n",
       "    .dataframe tbody tr th {\n",
       "        vertical-align: top;\n",
       "    }\n",
       "\n",
       "    .dataframe thead th {\n",
       "        text-align: right;\n",
       "    }\n",
       "</style>\n",
       "<table border=\"1\" class=\"dataframe\">\n",
       "  <thead>\n",
       "    <tr style=\"text-align: right;\">\n",
       "      <th></th>\n",
       "      <th>name</th>\n",
       "      <th>taxon_id</th>\n",
       "      <th>short_name</th>\n",
       "      <th>version</th>\n",
       "      <th>long_name</th>\n",
       "    </tr>\n",
       "  </thead>\n",
       "  <tbody>\n",
       "    <tr>\n",
       "      <th>26</th>\n",
       "      <td>canola</td>\n",
       "      <td>3708</td>\n",
       "      <td>BRANA</td>\n",
       "      <td>Reference Proteome 2021_03</td>\n",
       "      <td>Brassica napus</td>\n",
       "    </tr>\n",
       "  </tbody>\n",
       "</table>\n",
       "</div>"
      ],
      "text/plain": [
       "      name  taxon_id short_name                     version       long_name\n",
       "26  canola      3708      BRANA  Reference Proteome 2021_03  Brassica napus"
      ]
     },
     "execution_count": 36,
     "metadata": {},
     "output_type": "execute_result"
    }
   ],
   "source": [
    "supportedGenomes[supportedGenomes['taxon_id']==3708]"
   ]
  },
  {
   "cell_type": "markdown",
   "id": "23ba89de-4f48-4dd0-9597-49d88dfd2aeb",
   "metadata": {},
   "source": [
    "download genome annotations POST (only 1000 genes at a time)"
   ]
  },
  {
   "cell_type": "code",
   "execution_count": 41,
   "id": "0ad60a57-80e0-46af-85cc-5bca5ce5b83a",
   "metadata": {},
   "outputs": [],
   "source": [
    "start_index=1\n",
    "## Construct the request\n",
    "##\n",
    "request_url = f\"http://pantherdb.org/services/oai/pantherdb/downloadgenome?organism=3708&startIndex={start_index}\"\n",
    "\n",
    "params = {\n",
    "    \"caller_identity\": \"https://github.com/Natpod/Bnapus_ME\",\n",
    "}\n",
    "results = requests.post(request_url, data=params)\n",
    "#df = handle_results(results)"
   ]
  },
  {
   "cell_type": "code",
   "execution_count": 43,
   "id": "37ea4c37-1740-407d-9765-07b0b5eadc4c",
   "metadata": {},
   "outputs": [],
   "source": [
    "response = results.json()"
   ]
  },
  {
   "cell_type": "code",
   "execution_count": 46,
   "id": "5fc25068-161c-46ba-8c47-f98db989f06a",
   "metadata": {},
   "outputs": [
    {
     "name": "stdout",
     "output_type": "stream",
     "text": [
      "Number of genes found for protein functional annotation: 60104\n"
     ]
    }
   ],
   "source": [
    "print(\"Number of genes found for protein functional annotation:\", response['search']['number_of_genes_in_genome'])"
   ]
  },
  {
   "cell_type": "code",
   "execution_count": 313,
   "id": "97cd811e-15e6-4ac6-8365-6d5c1e3ac138",
   "metadata": {},
   "outputs": [],
   "source": [
    "final_index = response['search']['number_of_genes_in_genome']\n",
    "max_genes_retrieved = 1000\n",
    "num_of_requests = int(round((final_index-start_index)/max_genes_retrieved,0))"
   ]
  },
  {
   "cell_type": "markdown",
   "id": "35432466-197f-4dd4-9059-56ec1269f31f",
   "metadata": {},
   "source": [
    "Do for all genes"
   ]
  },
  {
   "cell_type": "code",
   "execution_count": 323,
   "id": "214053c9-bc17-46e0-9b01-ca58dfe082e4",
   "metadata": {},
   "outputs": [],
   "source": [
    "final_df = pd.DataFrame(columns = [['gene_symbol','gene_name','persistent_id','name_PC','id_PC']])\n",
    "\n",
    "start_index=1\n",
    "final_index = response['search']['number_of_genes_in_genome']\n",
    "max_genes_retrieved = 1000\n",
    "num_of_requests = int(round((final_index-start_index)/max_genes_retrieved,0))\n",
    "\n",
    "indexes_to_test = [1]\n",
    "indexes_to_test = indexes_to_test + [i*1000 for i in range(1,num_of_requests+1)]\n",
    "\n",
    "for st_index_request in indexes_to_test:\n",
    "    ## Construct the request\n",
    "    ##\n",
    "    request_url = f\"http://pantherdb.org/services/oai/pantherdb/downloadgenome?organism=3708&startIndex={st_index_request}\"\n",
    "\n",
    "    params = {\n",
    "        \"caller_identity\": \"https://github.com/Natpod/Bnapus_ME\",\n",
    "    }\n",
    "    results = requests.post(request_url, data=params)\n",
    "\n",
    "\n",
    "\n",
    "\n",
    "\n",
    "\n",
    "    gl_1 = pd.DataFrame.from_dict(response['search']['gene_list']['gene'])\n",
    "    gl_1 = gl_1.replace(nanval,None)\n",
    "\n",
    "    list_genes = gl_1['gene_symbol'].to_list()\n",
    "    list_gene_names = gl_1['gene_name'].to_list()\n",
    "    list_gene_pantherid = gl_1['persistent_id'].to_list()\n",
    "    list_name_pc= []\n",
    "    list_id_pc = []\n",
    "\n",
    "    for i in range(len(list_annotations)):\n",
    "        if list_annotations[i] != None:\n",
    "            tmp_df = pd.DataFrame.from_dict(list_annotations[i]['annotation_data_type'])\n",
    "            if tmp_df.shape[0] > 1 :\n",
    "                if (tmp_df['content'] == 'ANNOT_TYPE_ID_PANTHER_PC').any():\n",
    "                    tmp_df = tmp_df[tmp_df['content'] == 'ANNOT_TYPE_ID_PANTHER_PC']['annotation_list']\n",
    "                    dict_pc = tmp_df.iloc[0]\n",
    "                    #subdict = dict_pc.get('annotation')\n",
    "                    name_pc = dict_pc.get('annotation').get('name')\n",
    "                    id_pc = dict_pc.get('annotation').get('id')\n",
    "            else:\n",
    "                if (tmp_df['content'] == 'ANNOT_TYPE_ID_PANTHER_PC').any():\n",
    "                    tmp_df = tmp_df[tmp_df['content'] == 'ANNOT_TYPE_ID_PANTHER_PC']['annotation_list']\n",
    "                    name_pc = tmp_df.iloc[0].get('name')\n",
    "                    id_pc = tmp_df.iloc[0].get('id')\n",
    "\n",
    "            list_name_pc.append(name_pc)\n",
    "            list_id_pc.append(id_pc)\n",
    "        else:\n",
    "            list_name_pc.append(None)\n",
    "            list_id_pc.append(None)\n",
    "\n",
    "\n",
    "    prepr_df = pd.DataFrame(list(zip(list_genes,list_gene_names,list_gene_pantherid,list_name_pc,list_id_pc)), columns = [['gene_symbol','gene_name','persistent_id','name_PC','id_PC']])\n",
    "    final_df = pd.concat((final_df, prepr_df))"
   ]
  },
  {
   "cell_type": "code",
   "execution_count": 324,
   "id": "fce21594-114e-4a7c-b135-4d77ccc68a06",
   "metadata": {},
   "outputs": [
    {
     "data": {
      "text/plain": [
       "(61000, 5)"
      ]
     },
     "execution_count": 324,
     "metadata": {},
     "output_type": "execute_result"
    }
   ],
   "source": [
    "final_df.shape"
   ]
  },
  {
   "cell_type": "markdown",
   "id": "b2d02173-2697-4de3-85b8-91539e853d20",
   "metadata": {},
   "source": [
    "Get _Brassica napus_ Hidden Markov Model Based assignation of PANTHERdb protein family classification on ftp browser on linux command (current PANTHER release version : v.17).The assignment is based on the phylogenetic trees where the gene is located.  The annotation of the subfamilies are used for the gene.\n",
    "\n",
    "```\n",
    "wget 'http://data.pantherdb.org/ftp/sequence_classifications/17.0/PANTHER_Sequence_Classification_files/PTHR17.0_rape'\n",
    "\n",
    "```\n",
    "\n"
   ]
  },
  {
   "cell_type": "code",
   "execution_count": 343,
   "id": "bbdb8837-02ba-4182-b8b5-7e1756a2591f",
   "metadata": {},
   "outputs": [],
   "source": [
    "df_Fam = pd.read_csv('/home/famgarcia/Descargas/PTHR17.0_rape', sep=\"\\t\", header=None)\n",
    "\n",
    "df_Fam.rename(columns=dict(zip(df_Fam.columns,['gene_id','Uniprot_ID','gene_symbol','PANTHER_SF_ID','PANTHER_Family_name','PANTHER_SF_name','GO_MF','GO_BP','GO_CC','Protein_class','Pathway'])), inplace=True)\n",
    "df_Fam = df_Fam[['Uniprot_ID','gene_symbol','PANTHER_SF_ID','PANTHER_Family_name','PANTHER_SF_name']]"
   ]
  },
  {
   "cell_type": "code",
   "execution_count": 338,
   "id": "e926880d-646e-4bc0-b81f-72a5923f4b0e",
   "metadata": {},
   "outputs": [
    {
     "data": {
      "text/html": [
       "<div>\n",
       "<style scoped>\n",
       "    .dataframe tbody tr th:only-of-type {\n",
       "        vertical-align: middle;\n",
       "    }\n",
       "\n",
       "    .dataframe tbody tr th {\n",
       "        vertical-align: top;\n",
       "    }\n",
       "\n",
       "    .dataframe thead th {\n",
       "        text-align: right;\n",
       "    }\n",
       "</style>\n",
       "<table border=\"1\" class=\"dataframe\">\n",
       "  <thead>\n",
       "    <tr style=\"text-align: right;\">\n",
       "      <th></th>\n",
       "      <th>Uniprot_ID</th>\n",
       "      <th>gene_symbol</th>\n",
       "      <th>PANTHER_SF_ID</th>\n",
       "      <th>PANTHER_Family_name</th>\n",
       "      <th>PANTHER_SF_name</th>\n",
       "    </tr>\n",
       "  </thead>\n",
       "  <tbody>\n",
       "    <tr>\n",
       "      <th>0</th>\n",
       "      <td>A0A078JWU9</td>\n",
       "      <td>BnaAnng36540D</td>\n",
       "      <td>PTHR31929:SF143</td>\n",
       "      <td>SAUR-LIKE AUXIN-RESPONSIVE PROTEIN FAMILY-RELATED</td>\n",
       "      <td>BNAANNG36540D PROTEIN</td>\n",
       "    </tr>\n",
       "    <tr>\n",
       "      <th>1</th>\n",
       "      <td>A0A078IGF9</td>\n",
       "      <td>BnaC05g48700D</td>\n",
       "      <td>PTHR45621:SF151</td>\n",
       "      <td>OS01G0588500 PROTEIN-RELATED</td>\n",
       "      <td>PROTEIN KINASE DOMAIN-CONTAINING PROTEIN</td>\n",
       "    </tr>\n",
       "    <tr>\n",
       "      <th>2</th>\n",
       "      <td>A0A078FKQ7</td>\n",
       "      <td>BnaCnng04230D</td>\n",
       "      <td>PTHR21649:SF120</td>\n",
       "      <td>CHLOROPHYLL A/B BINDING PROTEIN</td>\n",
       "      <td>CHLOROPHYLL A-B BINDING PROTEIN, CHLOROPLASTIC</td>\n",
       "    </tr>\n",
       "    <tr>\n",
       "      <th>3</th>\n",
       "      <td>A0A078H4L9</td>\n",
       "      <td>BnaA06g35530D</td>\n",
       "      <td>PTHR15680:SF16</td>\n",
       "      <td>RIBOSOMAL PROTEIN L19</td>\n",
       "      <td>BNAA06G35530D PROTEIN</td>\n",
       "    </tr>\n",
       "    <tr>\n",
       "      <th>4</th>\n",
       "      <td>A0A078JN16</td>\n",
       "      <td>BnaUnng02600D</td>\n",
       "      <td>PTHR11945:SF688</td>\n",
       "      <td>MADS BOX PROTEIN</td>\n",
       "      <td>MADS-BOX DOMAIN-CONTAINING PROTEIN</td>\n",
       "    </tr>\n",
       "  </tbody>\n",
       "</table>\n",
       "</div>"
      ],
      "text/plain": [
       "   Uniprot_ID    gene_symbol    PANTHER_SF_ID  \\\n",
       "0  A0A078JWU9  BnaAnng36540D  PTHR31929:SF143   \n",
       "1  A0A078IGF9  BnaC05g48700D  PTHR45621:SF151   \n",
       "2  A0A078FKQ7  BnaCnng04230D  PTHR21649:SF120   \n",
       "3  A0A078H4L9  BnaA06g35530D   PTHR15680:SF16   \n",
       "4  A0A078JN16  BnaUnng02600D  PTHR11945:SF688   \n",
       "\n",
       "                                 PANTHER_Family_name  \\\n",
       "0  SAUR-LIKE AUXIN-RESPONSIVE PROTEIN FAMILY-RELATED   \n",
       "1                       OS01G0588500 PROTEIN-RELATED   \n",
       "2                    CHLOROPHYLL A/B BINDING PROTEIN   \n",
       "3                              RIBOSOMAL PROTEIN L19   \n",
       "4                                   MADS BOX PROTEIN   \n",
       "\n",
       "                                  PANTHER_SF_name  \n",
       "0                           BNAANNG36540D PROTEIN  \n",
       "1        PROTEIN KINASE DOMAIN-CONTAINING PROTEIN  \n",
       "2  CHLOROPHYLL A-B BINDING PROTEIN, CHLOROPLASTIC  \n",
       "3                           BNAA06G35530D PROTEIN  \n",
       "4              MADS-BOX DOMAIN-CONTAINING PROTEIN  "
      ]
     },
     "execution_count": 338,
     "metadata": {},
     "output_type": "execute_result"
    }
   ],
   "source": [
    "df_Fam.head()"
   ]
  },
  {
   "cell_type": "code",
   "execution_count": 346,
   "id": "c53cc770-b1d0-4d05-984c-d5a9660e8b59",
   "metadata": {},
   "outputs": [],
   "source": [
    "final_df.head()\n",
    "\n",
    "final_df.columns = final_df.columns.map(''.join)"
   ]
  },
  {
   "cell_type": "markdown",
   "id": "d9c110ba-d889-428c-9f86-3fbeeec5f8b9",
   "metadata": {},
   "source": [
    "merge both results"
   ]
  },
  {
   "cell_type": "code",
   "execution_count": 347,
   "id": "f81be870-097a-431d-9ea0-f6af0e061f3c",
   "metadata": {},
   "outputs": [],
   "source": [
    "df_annotated = pd.merge(final_df, df_Fam, on=\"gene_symbol\",how=\"outer\")"
   ]
  },
  {
   "cell_type": "code",
   "execution_count": 353,
   "id": "05ace0ef-c276-48e1-82a7-30887937b401",
   "metadata": {},
   "outputs": [],
   "source": [
    "df_annotated = df_annotated.drop_duplicates()"
   ]
  },
  {
   "cell_type": "code",
   "execution_count": 369,
   "id": "b21fd507-a933-44cb-8aad-7ef56f3a2c6b",
   "metadata": {},
   "outputs": [
    {
     "data": {
      "text/html": [
       "<div>\n",
       "<style scoped>\n",
       "    .dataframe tbody tr th:only-of-type {\n",
       "        vertical-align: middle;\n",
       "    }\n",
       "\n",
       "    .dataframe tbody tr th {\n",
       "        vertical-align: top;\n",
       "    }\n",
       "\n",
       "    .dataframe thead th {\n",
       "        text-align: right;\n",
       "    }\n",
       "</style>\n",
       "<table border=\"1\" class=\"dataframe\">\n",
       "  <thead>\n",
       "    <tr style=\"text-align: right;\">\n",
       "      <th></th>\n",
       "      <th>gene_symbol</th>\n",
       "      <th>gene_name</th>\n",
       "      <th>persistent_id</th>\n",
       "      <th>name_PC</th>\n",
       "      <th>id_PC</th>\n",
       "      <th>Uniprot_ID</th>\n",
       "      <th>PANTHER_SF_ID</th>\n",
       "      <th>PANTHER_Family_name</th>\n",
       "      <th>PANTHER_SF_name</th>\n",
       "    </tr>\n",
       "  </thead>\n",
       "  <tbody>\n",
       "    <tr>\n",
       "      <th>0</th>\n",
       "      <td>BnaC09g12820D</td>\n",
       "      <td>BnaC09g12820D protein</td>\n",
       "      <td>PTN008197571</td>\n",
       "      <td>DNA-binding transcription factor</td>\n",
       "      <td>PC00218</td>\n",
       "      <td>A0A078F5I3</td>\n",
       "      <td>PTHR46266:SF3</td>\n",
       "      <td>TRANSCRIPTION FACTOR TT8</td>\n",
       "      <td>TRANSCRIPTION FACTOR EGL1</td>\n",
       "    </tr>\n",
       "    <tr>\n",
       "      <th>1</th>\n",
       "      <td>BnaC09g12810D</td>\n",
       "      <td>Glutamine amidotransferase</td>\n",
       "      <td>PTN007548798</td>\n",
       "      <td>ligase</td>\n",
       "      <td>PC00142</td>\n",
       "      <td>A0A078F1H1</td>\n",
       "      <td>PTHR11922:SF2</td>\n",
       "      <td>GMP SYNTHASE-RELATED</td>\n",
       "      <td>GMP SYNTHASE [GLUTAMINE-HYDROLYZING]</td>\n",
       "    </tr>\n",
       "    <tr>\n",
       "      <th>2</th>\n",
       "      <td>BnaC09g12800D</td>\n",
       "      <td>BnaC09g12800D protein</td>\n",
       "      <td>PTN008228993</td>\n",
       "      <td>None</td>\n",
       "      <td>None</td>\n",
       "      <td>A0A078F4H7</td>\n",
       "      <td>PTHR47212:SF16</td>\n",
       "      <td>ADHESIN-LIKE PROTEIN, PUTATIVE (DUF3741)-RELATED</td>\n",
       "      <td>BNAA09G12400D PROTEIN</td>\n",
       "    </tr>\n",
       "    <tr>\n",
       "      <th>3</th>\n",
       "      <td>BnaC09g12790D</td>\n",
       "      <td>BnaC09g12790D protein</td>\n",
       "      <td>PTN008654183</td>\n",
       "      <td>ligase</td>\n",
       "      <td>PC00142</td>\n",
       "      <td>A0A078F5D2</td>\n",
       "      <td>PTHR33248:SF42</td>\n",
       "      <td>ZINC ION-BINDING PROTEIN</td>\n",
       "      <td>GRF-TYPE DOMAIN-CONTAINING PROTEIN</td>\n",
       "    </tr>\n",
       "    <tr>\n",
       "      <th>4</th>\n",
       "      <td>BnaC09g12780D</td>\n",
       "      <td>BnaC09g12780D protein</td>\n",
       "      <td>PTN007561817</td>\n",
       "      <td>aspartic protease</td>\n",
       "      <td>PC00053</td>\n",
       "      <td>A0A078F968</td>\n",
       "      <td>PTHR12174:SF75</td>\n",
       "      <td>SIGNAL PEPTIDE PEPTIDASE</td>\n",
       "      <td>SIGNAL PEPTIDE PEPTIDASE-LIKE 2</td>\n",
       "    </tr>\n",
       "    <tr>\n",
       "      <th>...</th>\n",
       "      <td>...</td>\n",
       "      <td>...</td>\n",
       "      <td>...</td>\n",
       "      <td>...</td>\n",
       "      <td>...</td>\n",
       "      <td>...</td>\n",
       "      <td>...</td>\n",
       "      <td>...</td>\n",
       "      <td>...</td>\n",
       "    </tr>\n",
       "    <tr>\n",
       "      <th>43283</th>\n",
       "      <td>BnaC03g34740D</td>\n",
       "      <td>NaN</td>\n",
       "      <td>NaN</td>\n",
       "      <td>NaN</td>\n",
       "      <td>NaN</td>\n",
       "      <td>A0A078F4W9</td>\n",
       "      <td>PTHR11157:SF143</td>\n",
       "      <td>FATTY ACID ACYL TRANSFERASE-RELATED</td>\n",
       "      <td>VERY-LONG-CHAIN 3-OXOACYL-COA SYNTHASE</td>\n",
       "    </tr>\n",
       "    <tr>\n",
       "      <th>43284</th>\n",
       "      <td>BnaC09g43750D</td>\n",
       "      <td>NaN</td>\n",
       "      <td>NaN</td>\n",
       "      <td>NaN</td>\n",
       "      <td>NaN</td>\n",
       "      <td>A0A078F8V0</td>\n",
       "      <td>PTHR31901:SF43</td>\n",
       "      <td>GH3 DOMAIN-CONTAINING PROTEIN</td>\n",
       "      <td>4-SUBSTITUTED BENZOATES-GLUTAMATE LIGASE GH3.12</td>\n",
       "    </tr>\n",
       "    <tr>\n",
       "      <th>43285</th>\n",
       "      <td>BnaA09g27500D</td>\n",
       "      <td>NaN</td>\n",
       "      <td>NaN</td>\n",
       "      <td>NaN</td>\n",
       "      <td>NaN</td>\n",
       "      <td>A0A078IBM3</td>\n",
       "      <td>PTHR35996:SF1</td>\n",
       "      <td>OSJNBA0038O10.25 PROTEIN</td>\n",
       "      <td>OS04G0528100 PROTEIN</td>\n",
       "    </tr>\n",
       "    <tr>\n",
       "      <th>43286</th>\n",
       "      <td>BnaA04g14890D</td>\n",
       "      <td>NaN</td>\n",
       "      <td>NaN</td>\n",
       "      <td>NaN</td>\n",
       "      <td>NaN</td>\n",
       "      <td>A0A078HEX9</td>\n",
       "      <td>PTHR13318:SF88</td>\n",
       "      <td>UNCHARACTERIZED</td>\n",
       "      <td>EIN3-BINDING F-BOX PROTEIN 1</td>\n",
       "    </tr>\n",
       "    <tr>\n",
       "      <th>43287</th>\n",
       "      <td>BnaC04g24610D</td>\n",
       "      <td>NaN</td>\n",
       "      <td>NaN</td>\n",
       "      <td>NaN</td>\n",
       "      <td>NaN</td>\n",
       "      <td>A0A078H280</td>\n",
       "      <td>PTHR10426:SF72</td>\n",
       "      <td>STRICTOSIDINE SYNTHASE-RELATED</td>\n",
       "      <td>PROTEIN STRICTOSIDINE SYNTHASE-LIKE 8</td>\n",
       "    </tr>\n",
       "  </tbody>\n",
       "</table>\n",
       "<p>43288 rows × 9 columns</p>\n",
       "</div>"
      ],
      "text/plain": [
       "         gene_symbol                   gene_name persistent_id  \\\n",
       "0      BnaC09g12820D       BnaC09g12820D protein  PTN008197571   \n",
       "1      BnaC09g12810D  Glutamine amidotransferase  PTN007548798   \n",
       "2      BnaC09g12800D       BnaC09g12800D protein  PTN008228993   \n",
       "3      BnaC09g12790D       BnaC09g12790D protein  PTN008654183   \n",
       "4      BnaC09g12780D       BnaC09g12780D protein  PTN007561817   \n",
       "...              ...                         ...           ...   \n",
       "43283  BnaC03g34740D                         NaN           NaN   \n",
       "43284  BnaC09g43750D                         NaN           NaN   \n",
       "43285  BnaA09g27500D                         NaN           NaN   \n",
       "43286  BnaA04g14890D                         NaN           NaN   \n",
       "43287  BnaC04g24610D                         NaN           NaN   \n",
       "\n",
       "                                name_PC    id_PC  Uniprot_ID    PANTHER_SF_ID  \\\n",
       "0      DNA-binding transcription factor  PC00218  A0A078F5I3    PTHR46266:SF3   \n",
       "1                                ligase  PC00142  A0A078F1H1    PTHR11922:SF2   \n",
       "2                                  None     None  A0A078F4H7   PTHR47212:SF16   \n",
       "3                                ligase  PC00142  A0A078F5D2   PTHR33248:SF42   \n",
       "4                     aspartic protease  PC00053  A0A078F968   PTHR12174:SF75   \n",
       "...                                 ...      ...         ...              ...   \n",
       "43283                               NaN      NaN  A0A078F4W9  PTHR11157:SF143   \n",
       "43284                               NaN      NaN  A0A078F8V0   PTHR31901:SF43   \n",
       "43285                               NaN      NaN  A0A078IBM3    PTHR35996:SF1   \n",
       "43286                               NaN      NaN  A0A078HEX9   PTHR13318:SF88   \n",
       "43287                               NaN      NaN  A0A078H280   PTHR10426:SF72   \n",
       "\n",
       "                                    PANTHER_Family_name  \\\n",
       "0                              TRANSCRIPTION FACTOR TT8   \n",
       "1                                  GMP SYNTHASE-RELATED   \n",
       "2      ADHESIN-LIKE PROTEIN, PUTATIVE (DUF3741)-RELATED   \n",
       "3                              ZINC ION-BINDING PROTEIN   \n",
       "4                              SIGNAL PEPTIDE PEPTIDASE   \n",
       "...                                                 ...   \n",
       "43283               FATTY ACID ACYL TRANSFERASE-RELATED   \n",
       "43284                     GH3 DOMAIN-CONTAINING PROTEIN   \n",
       "43285                          OSJNBA0038O10.25 PROTEIN   \n",
       "43286                                   UNCHARACTERIZED   \n",
       "43287                    STRICTOSIDINE SYNTHASE-RELATED   \n",
       "\n",
       "                                       PANTHER_SF_name  \n",
       "0                            TRANSCRIPTION FACTOR EGL1  \n",
       "1                 GMP SYNTHASE [GLUTAMINE-HYDROLYZING]  \n",
       "2                                BNAA09G12400D PROTEIN  \n",
       "3                   GRF-TYPE DOMAIN-CONTAINING PROTEIN  \n",
       "4                      SIGNAL PEPTIDE PEPTIDASE-LIKE 2  \n",
       "...                                                ...  \n",
       "43283           VERY-LONG-CHAIN 3-OXOACYL-COA SYNTHASE  \n",
       "43284  4-SUBSTITUTED BENZOATES-GLUTAMATE LIGASE GH3.12  \n",
       "43285                             OS04G0528100 PROTEIN  \n",
       "43286                     EIN3-BINDING F-BOX PROTEIN 1  \n",
       "43287            PROTEIN STRICTOSIDINE SYNTHASE-LIKE 8  \n",
       "\n",
       "[43288 rows x 9 columns]"
      ]
     },
     "execution_count": 369,
     "metadata": {},
     "output_type": "execute_result"
    }
   ],
   "source": [
    "df_annotated"
   ]
  },
  {
   "cell_type": "code",
   "execution_count": 379,
   "id": "156b185d-4c7a-43dc-8d81-1c78ad92bb1c",
   "metadata": {},
   "outputs": [],
   "source": [
    "df_annotated= df_annotated.replace(nanval,None)"
   ]
  },
  {
   "cell_type": "markdown",
   "id": "e0470d01-294e-4375-a34d-6ab1273b8704",
   "metadata": {},
   "source": [
    "# Gene annotation"
   ]
  },
  {
   "cell_type": "markdown",
   "id": "995b6224-25ec-40b6-8573-8e602eee3ce9",
   "metadata": {},
   "source": [
    "Annotating predicted class on Leading Edge (LE) genes"
   ]
  },
  {
   "cell_type": "code",
   "execution_count": 370,
   "id": "e0bf4f3f-b7a4-49cb-a2f4-9b8f97c2dc68",
   "metadata": {},
   "outputs": [],
   "source": [
    "# Leading edge genes from singificantly enriched GSEA pathways\n",
    "le_UP_HDAC = pd.read_csv('/home/famgarcia/le_HDAC_up.txt', header=None)\n",
    "le_DOWN_HDAC = pd.read_csv('/home/famgarcia/le_HDAC_down.txt', header=None)\n",
    "\n",
    "le_UP_STRESS = pd.read_csv('/home/famgarcia/le_Stress_up.txt', header=None)\n",
    "le_DOWN_STRESS = pd.read_csv('/home/famgarcia/le_Stress_down.txt', header=None)\n",
    "\n",
    "le_UP_HDAC.rename(columns={le_UP_HDAC.columns[0]:'gene_symbol'}, inplace=True)\n",
    "le_DOWN_HDAC.rename(columns={le_DOWN_HDAC.columns[0]:'gene_symbol'}, inplace=True)\n",
    "le_UP_STRESS.rename(columns={le_UP_STRESS.columns[0]:'gene_symbol'}, inplace=True)\n",
    "le_DOWN_STRESS.rename(columns={le_DOWN_STRESS.columns[0]:'gene_symbol'}, inplace=True)\n"
   ]
  },
  {
   "cell_type": "code",
   "execution_count": 385,
   "id": "e94dc0b2-873d-431e-8cff-ef7be1938418",
   "metadata": {},
   "outputs": [],
   "source": [
    "le_UP_HDAC_ann = pd.merge(le_UP_HDAC,df_annotated,on='gene_symbol',how='inner')"
   ]
  },
  {
   "cell_type": "code",
   "execution_count": 386,
   "id": "1f9193f2-7bf9-4bcd-91e9-51ecbe8e64a9",
   "metadata": {},
   "outputs": [],
   "source": [
    "le_DOWN_HDAC_ann = pd.merge(le_DOWN_HDAC,df_annotated,on='gene_symbol',how='inner')"
   ]
  },
  {
   "cell_type": "code",
   "execution_count": 387,
   "id": "988a37df-f4a4-4d5e-b18e-392a32d0054c",
   "metadata": {},
   "outputs": [],
   "source": [
    "le_UP_STRESS_ann = pd.merge(le_UP_STRESS,df_annotated,on='gene_symbol',how='inner')"
   ]
  },
  {
   "cell_type": "code",
   "execution_count": 388,
   "id": "bd817970-2635-40e4-8c9c-05d9c5838373",
   "metadata": {},
   "outputs": [],
   "source": [
    "le_DOWN_STRESS_ann = pd.merge(le_DOWN_STRESS,df_annotated,on='gene_symbol',how='inner')"
   ]
  },
  {
   "cell_type": "markdown",
   "id": "789decfd-ce33-4db0-ae3a-1881271763e1",
   "metadata": {},
   "source": [
    "Annotating predicted class on Differentially Expressed Genes (DEGs)"
   ]
  },
  {
   "cell_type": "code",
   "execution_count": 391,
   "id": "3f3ebce4-703a-47bc-8361-aac5b26fb85f",
   "metadata": {},
   "outputs": [],
   "source": [
    "# DEGS from both experiments\n",
    "DEG_HDAC = pd.read_excel('/home/famgarcia/Filtered_DEG_LFC1_padj05_results_total.xlsx')\n",
    "DEG_STRESS = pd.read_csv('/home/famgarcia/Final_condition_PErep_vs_VMrep_padj0.05_woPErep3_LFC1filtered.csv')"
   ]
  },
  {
   "cell_type": "code",
   "execution_count": 394,
   "id": "ce0afcc1-b0c7-4a48-9f16-15546aa2d5d8",
   "metadata": {},
   "outputs": [],
   "source": [
    "DEG_HDAC.rename(columns={'external_gene_name':'gene_symbol'},inplace=True)\n",
    "DEG_STRESS.rename(columns={'external_gene_name':'gene_symbol'},inplace=True)"
   ]
  },
  {
   "cell_type": "code",
   "execution_count": 397,
   "id": "0b68cc23-c521-4e15-847c-a7d9e37c0d3c",
   "metadata": {},
   "outputs": [],
   "source": [
    "DEG_UP_STRESS = DEG_STRESS[DEG_STRESS['log2FoldChange']>0][['gene_symbol','log2FoldChange','padj']]\n",
    "DEG_DOWN_STRESS = DEG_STRESS[DEG_STRESS['log2FoldChange']<0][['gene_symbol','log2FoldChange','padj']]\n",
    "\n",
    "DEG_UP_HDAC = DEG_HDAC[DEG_HDAC['log2FoldChange']>0][['gene_symbol','log2FoldChange','padj']]\n",
    "DEG_DOWN_HDAC = DEG_HDAC[DEG_HDAC['log2FoldChange']<0][['gene_symbol','log2FoldChange','padj']]"
   ]
  },
  {
   "cell_type": "code",
   "execution_count": 398,
   "id": "734648fe-b7ff-47c4-a077-8086bfcbc689",
   "metadata": {},
   "outputs": [],
   "source": [
    "DEG_UP_STRESS_ann = pd.merge(DEG_UP_STRESS,df_annotated,on='gene_symbol',how='inner')\n",
    "DEG_DOWN_STRESS_ann = pd.merge(DEG_DOWN_STRESS,df_annotated,on='gene_symbol',how='inner')\n",
    "\n",
    "DEG_UP_HDAC_ann = pd.merge(DEG_UP_HDAC,df_annotated,on='gene_symbol',how='inner')\n",
    "DEG_DOWN_HDAC_ann = pd.merge(DEG_DOWN_HDAC,df_annotated,on='gene_symbol',how='inner')"
   ]
  },
  {
   "cell_type": "code",
   "execution_count": 448,
   "id": "88e35287-19bb-473b-863c-229849a4fdb0",
   "metadata": {},
   "outputs": [],
   "source": [
    "DEG_DOWN_STRESS_ann.to_csv('/home/famgarcia/TFM/DEGs_DOWN_STRESS_ann.tsv', sep=\"\\t\", index=False)\n",
    "DEG_UP_STRESS_ann.to_csv('/home/famgarcia/TFM/DEGs_UP_STRESS_ann_ann.tsv', sep=\"\\t\", index=False)\n",
    "DEG_UP_HDAC_ann.to_csv('/home/famgarcia/TFM/DEGs_UP_HDAC_ann.tsv', sep=\"\\t\", index=False)\n",
    "DEG_DOWN_HDAC_ann.to_csv('/home/famgarcia/TFM/DEGs_DOWN_HDAC_ann.tsv', sep=\"\\t\", index=False)"
   ]
  },
  {
   "cell_type": "markdown",
   "id": "90ea2986-0740-452f-afca-dd005d1d9682",
   "metadata": {},
   "source": [
    "Save annotations of DEGs that are in a leading edge in enrichment"
   ]
  },
  {
   "cell_type": "code",
   "execution_count": 446,
   "id": "e10b4f81-f75a-4fd8-bfad-21074a0d9075",
   "metadata": {},
   "outputs": [],
   "source": [
    "tmp_df = pd.merge(le_DOWN_STRESS_ann,DEG_DOWN_STRESS,on='gene_symbol')\n",
    "tmp_df.to_csv('/home/famgarcia/TFM/LE_DEGs_DOWN_STRESS.tsv', sep=\"\\t\", index=False)"
   ]
  },
  {
   "cell_type": "code",
   "execution_count": 447,
   "id": "3e78cd6d-fcc2-40a4-83c5-4a5657e0b37a",
   "metadata": {},
   "outputs": [],
   "source": [
    "tmp_df = pd.merge(le_UP_STRESS_ann,DEG_UP_STRESS,on='gene_symbol')\n",
    "tmp_df.to_csv('/home/famgarcia/TFM/LE_DEGs_UP_STRESS.tsv', sep=\"\\t\", index=False)"
   ]
  },
  {
   "cell_type": "code",
   "execution_count": 444,
   "id": "2f6f2aed-a1f2-473e-9066-7c28785c7859",
   "metadata": {},
   "outputs": [],
   "source": [
    "tmp_df = pd.merge(le_DOWN_HDAC_ann,DEG_DOWN_HDAC,on='gene_symbol')\n",
    "tmp_df.to_csv('/home/famgarcia/TFM/LE_DEGs_DOWN_HDAC.tsv', sep=\"\\t\", index=False)"
   ]
  },
  {
   "cell_type": "code",
   "execution_count": 443,
   "id": "a69862c7-c635-4fee-b992-0c72c8f71a1c",
   "metadata": {},
   "outputs": [],
   "source": [
    "tmp_df = pd.merge(le_UP_HDAC_ann,DEG_UP_HDAC,on='gene_symbol')\n",
    "tmp_df.to_csv('/home/famgarcia/TFM/LE_DEGs_UP_HDAC.tsv', sep=\"\\t\", index=False)"
   ]
  },
  {
   "cell_type": "markdown",
   "id": "fefebad7-96df-471c-867f-e923697ba49b",
   "metadata": {},
   "source": [
    "# CHECKING LEADING EDGE IN COMMON\n"
   ]
  },
  {
   "cell_type": "code",
   "execution_count": 419,
   "id": "e8e93684-7a47-4cff-bec5-ac7ba0dd18fb",
   "metadata": {},
   "outputs": [
    {
     "name": "stdout",
     "output_type": "stream",
     "text": [
      "Common up regulated leading edge genes:  335\n",
      "Common down regulated leading edge genes:  140\n",
      "HDAC up regulated leading edge genes, DOWN regulated STRESS LE:  88\n",
      "HDAC down regulated leading edge genes, up regulated STRESS LE:  449\n"
     ]
    }
   ],
   "source": [
    "common_up_le = list(set(set(le_UP_HDAC['gene_symbol'].to_list()) & set(le_UP_STRESS['gene_symbol'].to_list())))\n",
    "print(\"Common up regulated leading edge genes: \", len(common_up_le))\n",
    "\n",
    "common_down_le = list(set(set(le_DOWN_HDAC['gene_symbol'].to_list()) & set(le_DOWN_STRESS['gene_symbol'].to_list())))\n",
    "print(\"Common down regulated leading edge genes: \", len(common_down_le))\n",
    "\n",
    "up_HDAC_down_Stress = list(set(set(le_UP_HDAC['gene_symbol'].to_list()) & set(le_DOWN_STRESS['gene_symbol'].to_list())))\n",
    "print(\"HDAC up regulated leading edge genes, DOWN regulated STRESS LE: \", len(up_HDAC_down_Stress))\n",
    "\n",
    "down_HDAC_up_Stress = list(set(set(le_DOWN_HDAC['gene_symbol'].to_list()) & set(le_UP_STRESS['gene_symbol'].to_list())))\n",
    "print(\"HDAC down regulated leading edge genes, up regulated STRESS LE: \", len(down_HDAC_up_Stress))"
   ]
  },
  {
   "cell_type": "code",
   "execution_count": null,
   "id": "8c5ee8a7-cea9-4cdc-834f-733d23c1267f",
   "metadata": {},
   "outputs": [],
   "source": [
    "common_up_le = pd.merge(le_UP_HDAC,le_UP_STRESS_ann,on='gene_symbol')"
   ]
  },
  {
   "cell_type": "code",
   "execution_count": 427,
   "id": "fff08587-f9af-4caa-ad63-fa96d36dcd7f",
   "metadata": {},
   "outputs": [],
   "source": [
    "common_down_le = pd.merge(le_DOWN_HDAC,le_DOWN_STRESS_ann,on='gene_symbol')"
   ]
  },
  {
   "cell_type": "markdown",
   "id": "73ee5426-6e5f-4792-ba7c-5c7a25e22264",
   "metadata": {},
   "source": [
    "# DEGs in HDACi common leading edges in selected pathways with stress (ep + ME)"
   ]
  },
  {
   "cell_type": "code",
   "execution_count": 450,
   "id": "63409800-8c13-4343-a4f3-bbf88a7a347a",
   "metadata": {},
   "outputs": [],
   "source": [
    "tmp_df_up = pd.merge(common_up_le,DEG_UP_HDAC,on='gene_symbol')\n",
    "\n",
    "#tmp_df.to_csv('/home/famgarcia/TFM/LE_COMMON_DEGs_UP_HDAC.tsv', sep=\"\\t\", index=False)"
   ]
  },
  {
   "cell_type": "code",
   "execution_count": 449,
   "id": "f667ae63-608f-405f-a7fe-8f0802087092",
   "metadata": {},
   "outputs": [],
   "source": [
    "tmp_df_down = pd.merge(common_down_le,DEG_DOWN_HDAC,on='gene_symbol')"
   ]
  },
  {
   "cell_type": "code",
   "execution_count": 451,
   "id": "a60d2d3a-2d07-4530-9618-0d8755a36521",
   "metadata": {},
   "outputs": [],
   "source": [
    "tmp_df = pd.concat((tmp_df_up,tmp_df_down))\n",
    "tmp_df.to_csv('/home/famgarcia/TFM/LE_common_DEGs_HDAC.tsv', sep=\"\\t\", index=False)"
   ]
  },
  {
   "cell_type": "markdown",
   "id": "0fa8e618-92e9-4643-bddf-0d9d451dffa2",
   "metadata": {},
   "source": [
    "# DEGs in Stress common leading edges in selected pathways with stress (ep + ME)"
   ]
  },
  {
   "cell_type": "code",
   "execution_count": 452,
   "id": "0a3d4a18-db4c-4b60-97c8-0db51dd3e7c3",
   "metadata": {},
   "outputs": [],
   "source": [
    "tmp_df_up = pd.merge(common_up_le,DEG_UP_STRESS,on='gene_symbol')\n",
    "tmp_df_down = pd.merge(common_down_le,DEG_DOWN_STRESS,on='gene_symbol')\n",
    "tmp_df = pd.concat((tmp_df_up,tmp_df_down))\n",
    "tmp_df.to_csv('/home/famgarcia/TFM/LE_common_DEGs_STRESS.tsv', sep=\"\\t\", index=False)"
   ]
  },
  {
   "cell_type": "markdown",
   "id": "c53f4ab9-719b-49cb-ae0e-fb8bc23985d6",
   "metadata": {},
   "source": [
    "# CHECKING LEADING EDGE NOT IN COMMON\n"
   ]
  },
  {
   "cell_type": "code",
   "execution_count": 426,
   "id": "6fae486e-0e3e-4353-908f-98395faf7c97",
   "metadata": {},
   "outputs": [],
   "source": [
    "up_HDAC_down_Stress = pd.merge(le_UP_HDAC,le_DOWN_STRESS_ann,on='gene_symbol')"
   ]
  },
  {
   "cell_type": "code",
   "execution_count": 453,
   "id": "cd7d97df-3110-4add-9f02-16abc1a82d17",
   "metadata": {},
   "outputs": [],
   "source": [
    "down_HDAC_up_Stress = pd.merge(le_DOWN_HDAC,le_UP_STRESS_ann,on='gene_symbol')"
   ]
  },
  {
   "cell_type": "markdown",
   "id": "5640ef5f-3e6b-4ddc-bcf1-aa6dd4ad3799",
   "metadata": {
    "tags": []
   },
   "source": [
    "# DEGs in HDACi in leading edges that are not common in HDAC and ME - effect of epigenetics"
   ]
  },
  {
   "cell_type": "code",
   "execution_count": 454,
   "id": "4016d565-a6e7-4b9b-8310-7d2cdba7c7d7",
   "metadata": {},
   "outputs": [],
   "source": [
    "tmp_df_up = pd.merge(up_HDAC_down_Stress,DEG_UP_HDAC,on='gene_symbol')\n",
    "tmp_df_down = pd.merge(down_HDAC_up_Stress,DEG_DOWN_HDAC,on='gene_symbol')\n",
    "\n",
    "tmp_df = pd.concat((tmp_df_up,tmp_df_down))\n",
    "tmp_df.to_csv('/home/famgarcia/TFM/LE_notcommon_DEGs_HDAC.tsv', sep=\"\\t\", index=False)"
   ]
  },
  {
   "cell_type": "markdown",
   "id": "ecffe985-9066-4d05-b161-2ac67931a32f",
   "metadata": {},
   "source": [
    "# DEGs DOWN in Stress in leading edges that are upregulated in HDAC and ME - effect of ep"
   ]
  },
  {
   "cell_type": "code",
   "execution_count": 455,
   "id": "8f2b3586-ba69-48d1-9e11-7ea682aa0b16",
   "metadata": {},
   "outputs": [],
   "source": [
    "tmp_df_down = pd.merge(up_HDAC_down_Stress,DEG_DOWN_STRESS,on='gene_symbol')\n",
    "tmp_df_up = pd.merge(down_HDAC_up_Stress,DEG_UP_STRESS,on='gene_symbol')\n",
    "\n",
    "tmp_df = pd.concat((tmp_df_up,tmp_df_down))\n",
    "tmp_df.to_csv('/home/famgarcia/TFM/LE_notcommon_DEGs_Stress.tsv', sep=\"\\t\", index=False)"
   ]
  },
  {
   "cell_type": "markdown",
   "id": "2d5e6aaa-4db5-4c18-a242-86a69b7a49af",
   "metadata": {},
   "source": [
    "Saving rest of files"
   ]
  },
  {
   "cell_type": "code",
   "execution_count": 380,
   "id": "f6884e59-5f35-45de-ab4a-9a797fe6e4c6",
   "metadata": {},
   "outputs": [],
   "source": [
    "df_annotated.to_csv(\"/home/famgarcia/TFM/PANTHER_proteins.csv\", sep=\"\\t\", index=False)"
   ]
  },
  {
   "cell_type": "code",
   "execution_count": 399,
   "id": "c5bfc134-9d46-4ae5-ad3a-99da4f841fd3",
   "metadata": {},
   "outputs": [],
   "source": [
    "le_UP_HDAC_ann.to_csv(\"/home/famgarcia/TFM/LE_HDAC_UP_ANNOTATED.csv\", sep=\"\\t\", index=False)"
   ]
  },
  {
   "cell_type": "code",
   "execution_count": 400,
   "id": "6659c3bd-aa10-4532-9430-09880638b000",
   "metadata": {},
   "outputs": [],
   "source": [
    "le_DOWN_HDAC_ann.to_csv(\"/home/famgarcia/TFM/LE_HDAC_DOWN_ANNOTATED.csv\", sep=\"\\t\", index=False)"
   ]
  },
  {
   "cell_type": "code",
   "execution_count": 401,
   "id": "32c73f03-c5f9-4ac3-92e8-e99e6531f467",
   "metadata": {},
   "outputs": [],
   "source": [
    "le_UP_STRESS_ann.to_csv(\"/home/famgarcia/TFM/LE_STRESS_UP_ANNOTATED.csv\", sep=\"\\t\", index=False)"
   ]
  },
  {
   "cell_type": "code",
   "execution_count": 402,
   "id": "a836a680-cdfb-464e-ae0f-3f587ed8926b",
   "metadata": {},
   "outputs": [],
   "source": [
    "le_DOWN_STRESS_ann.to_csv(\"/home/famgarcia/TFM/LE_STRESS_UP_ANNOTATED.csv\", sep=\"\\t\", index=False)"
   ]
  }
 ],
 "metadata": {
  "kernelspec": {
   "display_name": "Python 3 (ipykernel)",
   "language": "python",
   "name": "python3"
  },
  "language_info": {
   "codemirror_mode": {
    "name": "ipython",
    "version": 3
   },
   "file_extension": ".py",
   "mimetype": "text/x-python",
   "name": "python",
   "nbconvert_exporter": "python",
   "pygments_lexer": "ipython3",
   "version": "3.9.12"
  }
 },
 "nbformat": 4,
 "nbformat_minor": 5
}
